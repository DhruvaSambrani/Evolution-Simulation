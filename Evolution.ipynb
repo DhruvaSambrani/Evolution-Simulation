{
 "cells": [
  {
   "cell_type": "code",
   "execution_count": 190,
   "metadata": {
    "ExecuteTime": {
     "end_time": "2019-03-31T05:03:12.037000+05:30",
     "start_time": "2019-03-30T23:33:03.168Z"
    }
   },
   "outputs": [
    {
     "data": {
      "text/plain": [
       "Plots.GRBackend()"
      ]
     },
     "execution_count": 190,
     "metadata": {},
     "output_type": "execute_result"
    }
   ],
   "source": [
    "using StatsBase\n",
    "using Plots\n",
    "using WebIO\n",
    "using Suppressor\n",
    "gr()"
   ]
  },
  {
   "cell_type": "markdown",
   "metadata": {
    "heading_collapsed": true
   },
   "source": [
    "# Define Individual"
   ]
  },
  {
   "cell_type": "code",
   "execution_count": 2,
   "metadata": {
    "ExecuteTime": {
     "end_time": "2019-03-31T05:03:17.014000+05:30",
     "start_time": "2019-03-30T23:33:03.920Z"
    },
    "hidden": true
   },
   "outputs": [],
   "source": [
    "struct individual\n",
    "    chromosomes :: Array{Bool,1}\n",
    "    function individual()\n",
    "        new(rand(Bool,2))\n",
    "    end\n",
    "    function individual(chr::Array{Bool,1})\n",
    "        new(chr)\n",
    "    end\n",
    "end"
   ]
  },
  {
   "cell_type": "markdown",
   "metadata": {
    "heading_collapsed": true
   },
   "source": [
    "# Define Functions"
   ]
  },
  {
   "cell_type": "markdown",
   "metadata": {
    "hidden": true
   },
   "source": [
    "## Define functions on Individuals"
   ]
  },
  {
   "cell_type": "code",
   "execution_count": 212,
   "metadata": {
    "ExecuteTime": {
     "end_time": "2019-04-01T00:05:57.002000+05:30",
     "start_time": "2019-03-31T18:35:56.871Z"
    },
    "hidden": true
   },
   "outputs": [
    {
     "data": {
      "text/plain": [
       "phenotype (generic function with 1 method)"
      ]
     },
     "execution_count": 212,
     "metadata": {},
     "output_type": "execute_result"
    }
   ],
   "source": [
    "function reproduce(p1::individual, p2::individual)::Tuple{individual,individual}\n",
    "    d1 = individual([rand(p1.chromosomes), rand(p2.chromosomes)])\n",
    "    d2 = individual([rand(p1.chromosomes), rand(p2.chromosomes)])\n",
    "    return (d1,d2)\n",
    "end\n",
    "\n",
    "function death(i::individual, selecttype::Bool)::Bool\n",
    "    chance = 0.75\n",
    "    if phenotype(i) == selecttype\n",
    "        chance = 0.25\n",
    "    end\n",
    "    if rand() < chance\n",
    "        return true\n",
    "    end\n",
    "    return false\n",
    "end\n",
    "\n",
    "function phenotype(i::individual) :: Bool\n",
    "    return i.chromosomes[1] || i.chromosomes[2]\n",
    "end"
   ]
  },
  {
   "cell_type": "markdown",
   "metadata": {
    "hidden": true
   },
   "source": [
    "## Define Cycles"
   ]
  },
  {
   "cell_type": "code",
   "execution_count": 97,
   "metadata": {
    "ExecuteTime": {
     "end_time": "2019-04-01T00:06:00.048000+05:30",
     "start_time": "2019-03-31T18:35:59.913Z"
    },
    "hidden": true
   },
   "outputs": [
    {
     "data": {
      "text/plain": [
       "lifecycles! (generic function with 1 method)"
      ]
     },
     "execution_count": 97,
     "metadata": {},
     "output_type": "execute_result"
    }
   ],
   "source": [
    "function reproduce_cycle!(population::Array{individual}, cx::Int64, cy::Int64)\n",
    "    for x in 1:size(population)[1]\n",
    "        for y in 1:size(population)[2]\n",
    "            population[y,x], population[mod((y+cy),size(population)[2]) + 1, mod((x+cx),size(population)[1]) + 1] = reproduce(population[y,x], population[mod((y+cy),size(population)[1]) + 1, mod((x+cx),size(population)[1]) + 1]) \n",
    "        end\n",
    "    end\n",
    "end\n",
    "\n",
    "function death_cycle!(population::Array{individual}, ground::Array{Bool}, cx::Int64, cy::Int64)\n",
    "    for x in 1:size(population)[1]\n",
    "        for y in 1:size(population)[2]\n",
    "            if death(population[y,x], ground[y,x])\n",
    "                population[y,x] = population[(y+cy)%size(population)[2] + 1, (x+cx)%size(population)[1] + 1]\n",
    "            end\n",
    "        end\n",
    "    end\n",
    "end\n",
    "\n",
    "function lifecycles!(population::Array{individual}, ground::Array{Bool}; n::Int64, c::Array{Array{Int64,1},1})\n",
    "    for i in 1:n\n",
    "        reproduce_cycle!(population, c[i][1],c[i][2])\n",
    "        death_cycle!(population, ground, c[i][1],c[i][2])\n",
    "    end\n",
    "end"
   ]
  },
  {
   "cell_type": "markdown",
   "metadata": {
    "heading_collapsed": true
   },
   "source": [
    "# Define Data "
   ]
  },
  {
   "cell_type": "code",
   "execution_count": 206,
   "metadata": {
    "ExecuteTime": {
     "end_time": "2019-04-01T00:06:03.388000+05:30",
     "start_time": "2019-03-31T18:36:02.360Z"
    },
    "hidden": true
   },
   "outputs": [],
   "source": [
    "\n",
    "ground_w = reshape(fill(true, 400), 20, 20);\n",
    "ground_b = reshape(fill(false, 400), 20, 20);\n",
    "hor_1 = hcat(hcat(ground_w, ground_b),hcat(ground_w, ground_b),hcat(ground_w, ground_b),hcat(ground_w, ground_b), hcat(ground_w, ground_b));\n",
    "hor_2 = hcat(hcat(ground_b, ground_w),hcat(ground_b, ground_w),hcat(ground_b, ground_w),hcat(ground_b, ground_w), hcat(ground_b, ground_w));\n",
    "ground = vcat(vcat(hor_1,hor_2),vcat(hor_1,hor_2), vcat(hor_1,hor_2),vcat(hor_1,hor_2), vcat(hor_1,hor_2))\n",
    "\n",
    "population = reshape([individual() for i in 1:4e4], 200, 200);"
   ]
  },
  {
   "cell_type": "markdown",
   "metadata": {
    "heading_collapsed": true
   },
   "source": [
    "# Outputs"
   ]
  },
  {
   "cell_type": "code",
   "execution_count": 216,
   "metadata": {
    "ExecuteTime": {
     "end_time": "2019-04-01T00:06:53.739000+05:30",
     "start_time": "2019-03-31T18:36:51.659Z"
    },
    "hidden": true
   },
   "outputs": [
    {
     "data": {
      "application/vnd.webio.node+json": {
       "children": [],
       "instanceArgs": {
        "namespace": "html",
        "tag": "img"
       },
       "nodeType": "DOM",
       "props": {
        "src": "evo.gif?modified=0.6875459292813277"
       },
       "type": "node"
      },
      "text/html": [
       "<div\n",
       "    class=\"webio-mountpoint\"\n",
       "    data-webio-mountpoint=\"7809406742699566649\"\n",
       ">\n",
       "    <script>\n",
       "    if (window.require && require.defined && require.defined(\"nbextensions/webio-jupyter-notebook\")) {\n",
       "        console.log(\"Jupyter WebIO extension detected, not mounting.\");\n",
       "    } else if (window.WebIO) {\n",
       "        WebIO.mount(\n",
       "            document.querySelector('[data-webio-mountpoint=\"7809406742699566649\"]'),\n",
       "            {\"props\":{\"src\":\"evo.gif?modified=0.6875459292813277\"},\"nodeType\":\"DOM\",\"type\":\"node\",\"instanceArgs\":{\"namespace\":\"html\",\"tag\":\"img\"},\"children\":[]},\n",
       "            window,\n",
       "        );\n",
       "    } else {\n",
       "        document\n",
       "            .querySelector('[data-webio-mountpoint=\"7809406742699566649\"]')\n",
       "            .innerHTML = (\n",
       "                '<div style=\"padding: 1em; background-color: #f8d6da; border: 1px solid #f5c6cb\">' +\n",
       "                '<p><strong>WebIO not detected.</strong></p>' +\n",
       "                '<p>Please read ' +\n",
       "                '<a href=\"https://juliagizmos.github.io/WebIO.jl/latest/troubleshooting/not-detected/\" target=\"_blank\">the troubleshooting guide</a> ' +\n",
       "                'for more information on how to resolve this issue.</p>' +\n",
       "                '<p><a href=\"https://juliagizmos.github.io/WebIO.jl/latest/troubleshooting/not-detected/\" target=\"_blank\">https://juliagizmos.github.io/WebIO.jl/latest/troubleshooting/not-detected/</a></p>' +\n",
       "                '</div>'\n",
       "            );\n",
       "    }\n",
       "    </script>\n",
       "</div>\n"
      ],
      "text/plain": [
       "(img { src=\"evo.gif?modified=0.6875459292813277\" })"
      ]
     },
     "metadata": {
      "application/vnd.webio.node+json": {
       "kernelId": "ad95b797-a240-423a-8b9a-fafa6c3267c5"
      }
     },
     "output_type": "display_data"
    }
   ],
   "source": [
    "ppi_anim = Animation()\n",
    "gens=10\n",
    "\n",
    "p = plot(phenotype.(population), st = :heatmap, color = :grays)\n",
    "frame(ppi_anim, p)\n",
    "steps = 1\n",
    "for i in 1:gens\n",
    "    lifecycles!(population, ground,n=steps,c=[sample([0,-1,1], 2) for _ in 1:steps])\n",
    "    plot!(p, phenotype.(population), st = :heatmap, color = :grays)\n",
    "    frame(ppi_anim, p)\n",
    "end\n",
    "q = plot()\n",
    "frame(ppi_anim, q)\n",
    "@suppress_err begin\n",
    "    # Save the gif as evo.gif with fps frames per second\n",
    "    gif(ppi_anim, \"evo.gif\", fps = 1);\n",
    "end\n",
    "display(Node(:img, src=\"evo.gif?modified=$(rand())\"))"
   ]
  },
  {
   "cell_type": "code",
   "execution_count": 108,
   "metadata": {
    "ExecuteTime": {
     "end_time": "2019-03-31T21:54:08.860000+05:30",
     "start_time": "2019-03-31T16:24:08.694Z"
    },
    "hidden": true
   },
   "outputs": [
    {
     "data": {
      "image/svg+xml": [
       "<?xml version=\"1.0\" encoding=\"utf-8\"?>\n",
       "<svg xmlns=\"http://www.w3.org/2000/svg\" xmlns:xlink=\"http://www.w3.org/1999/xlink\" width=\"600\" height=\"400\" viewBox=\"0 0 2400 1600\">\n",
       "<defs>\n",
       "  <clipPath id=\"clip1500\">\n",
       "    <rect x=\"0\" y=\"0\" width=\"2400\" height=\"1600\"/>\n",
       "  </clipPath>\n",
       "</defs>\n",
       "<path clip-path=\"url(#clip1500)\" d=\"\n",
       "M0 1600 L2400 1600 L2400 0 L0 0  Z\n",
       "  \" fill=\"#ffffff\" fill-rule=\"evenodd\" fill-opacity=\"1\"/>\n",
       "<defs>\n",
       "  <clipPath id=\"clip1501\">\n",
       "    <rect x=\"480\" y=\"0\" width=\"1681\" height=\"1600\"/>\n",
       "  </clipPath>\n",
       "</defs>\n",
       "<path clip-path=\"url(#clip1500)\" d=\"\n",
       "M167.279 1487.47 L2112.76 1487.47 L2112.76 47.2441 L167.279 47.2441  Z\n",
       "  \" fill=\"#ffffff\" fill-rule=\"evenodd\" fill-opacity=\"1\"/>\n",
       "<defs>\n",
       "  <clipPath id=\"clip1502\">\n",
       "    <rect x=\"167\" y=\"47\" width=\"1946\" height=\"1441\"/>\n",
       "  </clipPath>\n",
       "</defs>\n",
       "<polyline clip-path=\"url(#clip1502)\" style=\"stroke:#000000; stroke-width:2; stroke-opacity:0.1; fill:none\" points=\"\n",
       "  648.785,1487.47 648.785,47.2441 \n",
       "  \"/>\n",
       "<polyline clip-path=\"url(#clip1502)\" style=\"stroke:#000000; stroke-width:2; stroke-opacity:0.1; fill:none\" points=\"\n",
       "  1135.15,1487.47 1135.15,47.2441 \n",
       "  \"/>\n",
       "<polyline clip-path=\"url(#clip1502)\" style=\"stroke:#000000; stroke-width:2; stroke-opacity:0.1; fill:none\" points=\"\n",
       "  1621.52,1487.47 1621.52,47.2441 \n",
       "  \"/>\n",
       "<polyline clip-path=\"url(#clip1502)\" style=\"stroke:#000000; stroke-width:2; stroke-opacity:0.1; fill:none\" points=\"\n",
       "  2107.89,1487.47 2107.89,47.2441 \n",
       "  \"/>\n",
       "<polyline clip-path=\"url(#clip1502)\" style=\"stroke:#000000; stroke-width:2; stroke-opacity:0.1; fill:none\" points=\"\n",
       "  167.279,1131.02 2112.76,1131.02 \n",
       "  \"/>\n",
       "<polyline clip-path=\"url(#clip1502)\" style=\"stroke:#000000; stroke-width:2; stroke-opacity:0.1; fill:none\" points=\"\n",
       "  167.279,770.96 2112.76,770.96 \n",
       "  \"/>\n",
       "<polyline clip-path=\"url(#clip1502)\" style=\"stroke:#000000; stroke-width:2; stroke-opacity:0.1; fill:none\" points=\"\n",
       "  167.279,410.902 2112.76,410.902 \n",
       "  \"/>\n",
       "<polyline clip-path=\"url(#clip1502)\" style=\"stroke:#000000; stroke-width:2; stroke-opacity:0.1; fill:none\" points=\"\n",
       "  167.279,50.8447 2112.76,50.8447 \n",
       "  \"/>\n",
       "<polyline clip-path=\"url(#clip1500)\" style=\"stroke:#000000; stroke-width:4; stroke-opacity:1; fill:none\" points=\"\n",
       "  167.279,1487.47 2112.76,1487.47 \n",
       "  \"/>\n",
       "<polyline clip-path=\"url(#clip1500)\" style=\"stroke:#000000; stroke-width:4; stroke-opacity:1; fill:none\" points=\"\n",
       "  167.279,1487.47 167.279,47.2441 \n",
       "  \"/>\n",
       "<polyline clip-path=\"url(#clip1500)\" style=\"stroke:#000000; stroke-width:4; stroke-opacity:1; fill:none\" points=\"\n",
       "  648.785,1487.47 648.785,1470.19 \n",
       "  \"/>\n",
       "<polyline clip-path=\"url(#clip1500)\" style=\"stroke:#000000; stroke-width:4; stroke-opacity:1; fill:none\" points=\"\n",
       "  1135.15,1487.47 1135.15,1470.19 \n",
       "  \"/>\n",
       "<polyline clip-path=\"url(#clip1500)\" style=\"stroke:#000000; stroke-width:4; stroke-opacity:1; fill:none\" points=\"\n",
       "  1621.52,1487.47 1621.52,1470.19 \n",
       "  \"/>\n",
       "<polyline clip-path=\"url(#clip1500)\" style=\"stroke:#000000; stroke-width:4; stroke-opacity:1; fill:none\" points=\"\n",
       "  2107.89,1487.47 2107.89,1470.19 \n",
       "  \"/>\n",
       "<polyline clip-path=\"url(#clip1500)\" style=\"stroke:#000000; stroke-width:4; stroke-opacity:1; fill:none\" points=\"\n",
       "  167.279,1131.02 190.625,1131.02 \n",
       "  \"/>\n",
       "<polyline clip-path=\"url(#clip1500)\" style=\"stroke:#000000; stroke-width:4; stroke-opacity:1; fill:none\" points=\"\n",
       "  167.279,770.96 190.625,770.96 \n",
       "  \"/>\n",
       "<polyline clip-path=\"url(#clip1500)\" style=\"stroke:#000000; stroke-width:4; stroke-opacity:1; fill:none\" points=\"\n",
       "  167.279,410.902 190.625,410.902 \n",
       "  \"/>\n",
       "<polyline clip-path=\"url(#clip1500)\" style=\"stroke:#000000; stroke-width:4; stroke-opacity:1; fill:none\" points=\"\n",
       "  167.279,50.8447 190.625,50.8447 \n",
       "  \"/>\n",
       "<g clip-path=\"url(#clip1500)\">\n",
       "<text style=\"fill:#000000; fill-opacity:1; font-family:Arial,Helvetica Neue,Helvetica,sans-serif; font-size:48px; text-anchor:middle;\" transform=\"rotate(0, 648.785, 1541.47)\" x=\"648.785\" y=\"1541.47\">50</text>\n",
       "</g>\n",
       "<g clip-path=\"url(#clip1500)\">\n",
       "<text style=\"fill:#000000; fill-opacity:1; font-family:Arial,Helvetica Neue,Helvetica,sans-serif; font-size:48px; text-anchor:middle;\" transform=\"rotate(0, 1135.15, 1541.47)\" x=\"1135.15\" y=\"1541.47\">100</text>\n",
       "</g>\n",
       "<g clip-path=\"url(#clip1500)\">\n",
       "<text style=\"fill:#000000; fill-opacity:1; font-family:Arial,Helvetica Neue,Helvetica,sans-serif; font-size:48px; text-anchor:middle;\" transform=\"rotate(0, 1621.52, 1541.47)\" x=\"1621.52\" y=\"1541.47\">150</text>\n",
       "</g>\n",
       "<g clip-path=\"url(#clip1500)\">\n",
       "<text style=\"fill:#000000; fill-opacity:1; font-family:Arial,Helvetica Neue,Helvetica,sans-serif; font-size:48px; text-anchor:middle;\" transform=\"rotate(0, 2107.89, 1541.47)\" x=\"2107.89\" y=\"1541.47\">200</text>\n",
       "</g>\n",
       "<g clip-path=\"url(#clip1500)\">\n",
       "<text style=\"fill:#000000; fill-opacity:1; font-family:Arial,Helvetica Neue,Helvetica,sans-serif; font-size:48px; text-anchor:end;\" transform=\"rotate(0, 143.279, 1148.52)\" x=\"143.279\" y=\"1148.52\">50</text>\n",
       "</g>\n",
       "<g clip-path=\"url(#clip1500)\">\n",
       "<text style=\"fill:#000000; fill-opacity:1; font-family:Arial,Helvetica Neue,Helvetica,sans-serif; font-size:48px; text-anchor:end;\" transform=\"rotate(0, 143.279, 788.46)\" x=\"143.279\" y=\"788.46\">100</text>\n",
       "</g>\n",
       "<g clip-path=\"url(#clip1500)\">\n",
       "<text style=\"fill:#000000; fill-opacity:1; font-family:Arial,Helvetica Neue,Helvetica,sans-serif; font-size:48px; text-anchor:end;\" transform=\"rotate(0, 143.279, 428.402)\" x=\"143.279\" y=\"428.402\">150</text>\n",
       "</g>\n",
       "<g clip-path=\"url(#clip1500)\">\n",
       "<text style=\"fill:#000000; fill-opacity:1; font-family:Arial,Helvetica Neue,Helvetica,sans-serif; font-size:48px; text-anchor:end;\" transform=\"rotate(0, 143.279, 68.3447)\" x=\"143.279\" y=\"68.3447\">200</text>\n",
       "</g>\n",
       "<g clip-path=\"url(#clip1502)\">\n",
       "<image width=\"1945\" height=\"1440\" xlink:href=\"data:image/png;base64,\n",
       "iVBORw0KGgoAAAANSUhEUgAAB5kAAAWgCAYAAABkKvT7AAAgAElEQVR4nOzbsa3jQBAFQel8RrD5\n",
       "h7YJMAF+a/2WNTygKoLxntGY73Vdzwf47L2nT4Bxa63pE+AVbALYBDhsAtgEOGwC2AQ4bAJ8Pv+m\n",
       "DwAAAAAAAADg/yEyAwAAAAAAAJCJzAAAAAAAAABkIjMAAAAAAAAAmcgMAAAAAAAAQCYyAwAAAAAA\n",
       "AJCJzAAAAAAAAABkIjMAAAAAAAAAmcgMAAAAAAAAQCYyAwAAAAAAAJCJzAAAAAAAAABkIjMAAAAA\n",
       "AAAAmcgMAAAAAAAAQCYyAwAAAAAAAJCJzAAAAAAAAABkIjMAAAAAAAAAmcgMAAAAAAAAQCYyAwAA\n",
       "AAAAAJCJzAAAAAAAAABkIjMAAAAAAAAAmcgMAAAAAAAAQCYyAwAAAAAAAJCJzAAAAAAAAABkIjMA\n",
       "AAAAAAAAmcgMAAAAAAAAQCYyAwAAAAAAAJCJzAAAAAAAAABkIjMAAAAAAAAAmcgMAAAAAAAAQCYy\n",
       "AwAAAAAAAJCJzAAAAAAAAABkIjMAAAAAAAAAmcgMAAAAAAAAQCYyAwAAAAAAAJCJzAAAAAAAAABk\n",
       "IjMAAAAAAAAAmcgMAAAAAAAAQCYyAwAAAAAAAJCJzAAAAAAAAABkIjMAAAAAAAAAmcgMAAAAAAAA\n",
       "QCYyAwAAAAAAAJCJzAAAAAAAAABkIjMAAAAAAAAAmcgMAAAAAAAAQCYyAwAAAAAAAJCJzAAAAAAA\n",
       "AABkIjMAAAAAAAAAmcgMAAAAAAAAQCYyAwAAAAAAAJCJzAAAAAAAAABkIjMAAAAAAAAAmcgMAAAA\n",
       "AAAAQCYyAwAAAAAAAJCJzAAAAAAAAABkIjMAAAAAAAAAmcgMAAAAAAAAQCYyAwAAAAAAAJCJzAAA\n",
       "AAAAAABkIjMAAAAAAAAAmcgMAAAAAAAAQCYyAwAAAAAAAJCJzAAAAAAAAABkIjMAAAAAAAAAmcgM\n",
       "AAAAAAAAQCYyAwAAAAAAAJCJzAAAAAAAAABkIjMAAAAAAAAAmcgMAAAAAAAAQCYyAwAAAAAAAJCJ\n",
       "zAAAAAAAAABkIjMAAAAAAAAAmcgMAAAAAAAAQCYyAwAAAAAAAJCJzAAAAAAAAABkIjMAAAAAAAAA\n",
       "mcgMAAAAAAAAQCYyAwAAAAAAAJCJzAAAAAAAAABkIjMAAAAAAAAAmcgMAAAAAAAAQCYyAwAAAAAA\n",
       "AJCJzAAAAAAAAABkIjMAAAAAAAAAmcgMAAAAAAAAQCYyAwAAAAAAAJCJzAAAAAAAAABkIjMAAAAA\n",
       "AAAAmcgMAAAAAAAAQCYyAwAAAAAAAJCJzAAAAAAAAABkIjMAAAAAAAAAmcgMAAAAAAAAQCYyAwAA\n",
       "AAAAAJCJzAAAAAAAAABkIjMAAAAAAAAAmcgMAAAAAAAAQCYyAwAAAAAAAJCJzAAAAAAAAABkIjMA\n",
       "AAAAAAAAmcgMAAAAAAAAQCYyAwAAAAAAAJCJzAAAAAAAAABkIjMAAAAAAAAAmcgMAAAAAAAAQCYy\n",
       "AwAAAAAAAJCJzAAAAAAAAABkIjMAAAAAAAAAmcgMAAAAAAAAQCYyAwAAAAAAAJCJzAAAAAAAAABk\n",
       "IjMAAAAAAAAAmcgMAAAAAAAAQCYyAwAAAAAAAJCJzAAAAAAAAABkIjMAAAAAAAAAmcgMAAAAAAAA\n",
       "QCYyAwAAAAAAAJCJzAAAAAAAAABkIjMAAAAAAAAAmcgMAAAAAAAAQCYyAwAAAAAAAJCJzAAAAAAA\n",
       "AABkIjMAAAAAAAAAmcgMAAAAAAAAQCYyAwAAAAAAAJCJzAAAAAAAAABkIjMAAAAAAAAAmcgMAAAA\n",
       "AAAAQCYyAwAAAAAAAJCJzAAAAAAAAABkIjMAAAAAAAAAmcgMAAAAAAAAQCYyAwAAAAAAAJCJzAAA\n",
       "AAAAAABkIjMAAAAAAAAAmcgMAAAAAAAAQCYyAwAAAAAAAJCJzAAAAAAAAABkIjMAAAAAAAAAmcgM\n",
       "AAAAAAAAQCYyAwAAAAAAAJCJzAAAAAAAAABk3/u+n+kj4A3WWtMnwLi99/QJ8Ao2AWwCHDYBbAIc\n",
       "NgFsAhw2AXwyAwAAAAAAAPADkRkAAAAAAACATGQGAAAAAAAAIBOZAQAAAAAAAMhEZgAAAAAAAAAy\n",
       "kRkAAAAAAACATGQGAAAAAAAAIBOZAQAAAAAAAMhEZgAAAAAAAAAykRkAAAAAAACATGQGAAAAAAAA\n",
       "IBOZAQAAAAAAAMhEZgAAAAAAAAAykRkAAAAAAACATGQGAAAAAAAAIBOZAQAAAAAAAMhEZgAAAAAA\n",
       "AAAykRkAAAAAAACATGQGAAAAAAAAIBOZAQAAAAAAAMhEZgAAAAAAAAAykRkAAAAAAACATGQGAAAA\n",
       "AAAAIBOZAQAAAAAAAMhEZgAAAAAAAAAykRkAAAAAAACATGQGAAAAAAAAIBOZAQAAAAAAAMhEZgAA\n",
       "AAAAAAAykRkAAAAAAACATGQGAAAAAAAAIBOZAQAAAAAAAMhEZgAAAAAAAAAykRkAAAAAAACATGQG\n",
       "AAAAAAAAIBOZAQAAAAAAAMhEZgAAAAAAAAAykRkAAAAAAACATGQGAAAAAAAAIBOZAQAAAAAAAMhE\n",
       "ZgAAAAAAAAAykRkAAAAAAACATGQGAAAAAAAAIBOZAQAAAAAAAMhEZgAAAAAAAAAykRkAAAAAAACA\n",
       "TGQGAAAAAAAAIBOZAQAAAAAAAMhEZgAAAAAAAAAykRkAAAAAAACATGQGAAAAAAAAIBOZAQAAAAAA\n",
       "AMhEZgAAAAAAAAAykRkAAAAAAACATGQGAAAAAAAAIBOZAQAAAAAAAMhEZgAAAAAAAAAykRkAAAAA\n",
       "AACATGQGAAAAAAAAIBOZAQAAAAAAAMhEZgAAAAAAAAAykRkAAAAAAACATGQGAAAAAAAAIBOZAQAA\n",
       "AAAAAMhEZgAAAAAAAAAykRkAAAAAAACATGQGAAAAAAAAIBOZAQAAAAAAAMhEZgAAAAAAAAAykRkA\n",
       "AAAAAACATGQGAAAAAAAAIBOZAQAAAAAAAMhEZgAAAAAAAAAykRkAAAAAAACATGQGAAAAAAAAIBOZ\n",
       "AQAAAAAAAMhEZgAAAAAAAAAykRkAAAAAAACATGQGAAAAAAAAIBOZAQAAAAAAAMhEZgAAAAAAAAAy\n",
       "kRkAAAAAAACATGQGAAAAAAAAIBOZAQAAAAAAAMhEZgAAAAAAAAAykRkAAAAAAACATGQGAAAAAAAA\n",
       "IBOZAQAAAAAAAMhEZgAAAAAAAAAykRkAAAAAAACATGQGAAAAAAAAIBOZAQAAAAAAAMhEZgAAAAAA\n",
       "AAAykRkAAAAAAACATGQGAAAAAAAAIBOZAQAAAAAAAMhEZgAAAAAAAAAykRkAAAAAAACATGQGAAAA\n",
       "AAAAIBOZAQAAAAAAAMhEZgAAAAAAAAAykRkAAAAAAACATGQGAAAAAAAAIBOZAQAAAAAAAMhEZgAA\n",
       "AAAAAAAykRkAAAAAAACATGQGAAAAAAAAIBOZAQAAAAAAAMhEZgAAAAAAAAAykRkAAAAAAACATGQG\n",
       "AAAAAAAAIBOZAQAAAAAAAMhEZgAAAAAAAAAykRkAAAAAAACATGQGAAAAAAAAIBOZAQAAAAAAAMhE\n",
       "ZgAAAAAAAAAykRkAAAAAAACATGQGAAAAAAAAIBOZAQAAAAAAAMhEZgAAAAAAAAAykRkAAAAAAACA\n",
       "TGQGAAAAAAAAIBOZAQAAAAAAAMhEZgAAAAAAAAAykRkAAAAAAACATGQGAAAAAAAAIBOZAQAAAAAA\n",
       "AMhEZgAAAAAAAAAykRkAAAAAAACATGQGAAAAAAAAIBOZAQAAAAAAAMhEZgAAAAAAAAAykRkAAAAA\n",
       "AACATGQGAAAAAAAAIBOZAQAAAAAAAMhEZgAAAAAAAAAykRkAAAAAAACATGQGAAAAAAAAIBOZAQAA\n",
       "AAAAAMhEZgAAAAAAAAAykRkAAAAAAACATGQGAAAAAAAAIPte1/VMHwFvsPeePgHGrbWmT4BXsAlg\n",
       "E+CwCWAT4LAJYBPgsAngkxkAAAAAAACAH4jMAAAAAAAAAGQiMwAAAAAAAACZyAwAAAAAAABAJjID\n",
       "AAAAAAAAkInMAAAAAAAAAGQiMwAAAAAAAACZyAwAAAAAAABAJjIDAAAAAAAAkInMAAAAAAAAAGQi\n",
       "MwAAAAAAAACZyAwAAAAAAABAJjIDAAAAAAAAkInMAAAAAAAAAGQiMwAAAAAAAACZyAwAAAAAAABA\n",
       "JjIDAAAAAAAAkInMAAAAAAAAAGQiMwAAAAAAAACZyAwAAAAAAABAJjIDAAAAAAAAkInMAAAAAAAA\n",
       "AGQiMwAAAAAAAACZyAwAAAAAAABAJjIDAAAAAAAAkInMAAAAAAAAAGQiMwAAAAAAAACZyAwAAAAA\n",
       "AABAJjIDAAAAAAAAkInMAAAAAAAAAGQiMwAAAAAAAACZyAwAAAAAAABAJjIDAAAAAAAAkInMAAAA\n",
       "AAAAAGQiMwAAAAAAAACZyAwAAAAAAABAJjIDAAAAAAAAkInMAAAAAAAAAGQiMwAAAAAAAACZyAwA\n",
       "AAAAAABAJjIDAAAAAAAAkInMAAAAAAAAAGQiMwAAAAAAAACZyAwAAAAAAABAJjIDAAAAAAAAkInM\n",
       "AAAAAAAAAGQiMwAAAAAAAACZyAwAAAAAAABAJjIDAAAAAAAAkInMAAAAAAAAAGQiMwAAAAAAAACZ\n",
       "yAwAAAAAAABAJjIDAAAAAAAAkInMAAAAAAAAAGQiMwAAAAAAAACZyAwAAAAAAABAJjIDAAAAAAAA\n",
       "kInMAAAAAAAAAGQiMwAAAAAAAACZyAwAAAAAAABAJjIDAAAAAAAAkInMAAAAAAAAAGQiMwAAAAAA\n",
       "AACZyAwAAAAAAABAJjIDAAAAAAAAkInMAAAAAAAAAGQiMwAAAAAAAACZyAwAAAAAAABAJjIDAAAA\n",
       "AAAAkInMAAAAAAAAAGQiMwAAAAAAAACZyAwAAAAAAABAJjIDAAAAAAAAkInMAAAAAAAAAGQiMwAA\n",
       "AAAAAACZyAwAAAAAAABAJjIDAAAAAAAAkInMAAAAAAAAAGQiMwAAAAAAAACZyAwAAAAAAABAJjID\n",
       "AAAAAAAAkInMAAAAAAAAAGQiMwAAAAAAAACZyAwAAAAAAABAJjIDAAAAAAAAkInMAAAAAAAAAGQi\n",
       "MwAAAAAAAACZyAwAAAAAAABAJjIDAAAAAAAAkInMAAAAAAAAAGQiMwAAAAAAAACZyAwAAAAAAABA\n",
       "JjIDAAAAAAAAkInMAAAAAAAAAGQiMwAAAAAAAACZyAwAAAAAAABAJjIDAAAAAAAAkInMAAAAAAAA\n",
       "AGQiMwAAAAAAAACZyAwAAAAAAABAJjIDAAAAAAAAkInMAAAAAAAAAGQiMwAAAAAAAACZyAwAAAAA\n",
       "AABAJjIDAAAAAAAAkInMAAAAAAAAAGQiMwAAAAAAAACZyAwAAAAAAABAJjIDAAAAAAAAkInMAAAA\n",
       "AAAAAGQiMwAAAAAAAACZyAwAAAAAAABAJjIDAAAAAAAAkInMAAAAAAAAAGQiMwAAAAAAAACZyAwA\n",
       "AAAAAABAJjIDAAAAAAAAkInMAAAAAAAAAGQiMwAAAAAAAACZyAwAAAAAAABAJjIDAAAAAAAAkInM\n",
       "AAAAAAAAAGQiMwAAAAAAAACZyAwAAAAAAABAJjIDAAAAAAAAkInMAAAAAAAAAGQiMwAAAAAAAACZ\n",
       "yAwAAAAAAABAJjIDAAAAAAAAkInMAAAAAAAAAGQiMwAAAAAAAACZyAwAAAAAAABAJjIDAAAAAAAA\n",
       "kInMAAAAAAAAAGQiMwAAAAAAAACZyAwAAAAAAABAJjIDAAAAAAAAkInMAAAAAAAAAGQiMwAAAAAA\n",
       "AACZyAwAAAAAAABAJjIDAAAAAAAAkInMAAAAAAAAAGQiMwAAAAAAAADZ977vZ/oIeIO11vQJMG7v\n",
       "PX0CvIJNAJsAh00AmwCHTQCbAIdNAJ/MAAAAAAAAAPxAZAYAAAAAAAAgE5kBAAAAAAAAyERmAAAA\n",
       "AAAAADKRGQAAAAAAAIBMZAYAAAAAAAAgE5kBAAAAAAAAyERmAAAAAAAAADKRGQAAAAAAAIBMZAYA\n",
       "AAAAAAAgE5kBAAAAAAAAyERmAAAAAAAAADKRGQAAAAAAAIBMZAYAAAAAAAAgE5kBAAAAAAAAyERm\n",
       "AAAAAAAAADKRGQAAAAAAAIBMZAYAAAAAAAAgE5kBAAAAAAAAyERmAAAAAAAAADKRGQAAAAAAAIBM\n",
       "ZAYAAAAAAAAgE5kBAAAAAAAAyERmAAAAAAAAADKRGQAAAAAAAIBMZAYAAAAAAAAgE5kBAAAAAAAA\n",
       "yERmAAAAAAAAADKRGQAAAAAAAIBMZAYAAAAAAAAgE5kBAAAAAAAAyERmAAAAAAAAADKRGQAAAAAA\n",
       "AIBMZAYAAAAAAAAgE5kBAAAAAAAAyERmAAAAAAAAADKRGQAAAAAAAIBMZAYAAAAAAAAgE5kBAAAA\n",
       "AAAAyERmAAAAAAAAADKRGQAAAAAAAIBMZAYAAAAAAAAgE5kBAAAAAAAAyERmAAAAAAAAADKRGQAA\n",
       "AAAAAIBMZAYAAAAAAAAgE5kBAAAAAAAAyERmAAAAAAAAADKRGQAAAAAAAIBMZAYAAAAAAAAgE5kB\n",
       "AAAAAAAAyERmAAAAAAAAADKRGQAAAAAAAIBMZAYAAAAAAAAgE5kBAAAAAAAAyERmAAAAAAAAADKR\n",
       "GQAAAAAAAIBMZAYAAAAAAAAgE5kBAAAAAAAAyERmAAAAAAAAADKRGQAAAAAAAIBMZAYAAAAAAAAg\n",
       "E5kBAAAAAAAAyERmAAAAAAAAADKRGQAAAAAAAIBMZAYAAAAAAAAgE5kBAAAAAAAAyERmAAAAAAAA\n",
       "ADKRGQAAAAAAAIBMZAYAAAAAAAAgE5kBAAAAAAAAyERmAAAAAAAAADKRGQAAAAAAAIBMZAYAAAAA\n",
       "AAAgE5kBAAAAAAAAyERmAAAAAAAAADKRGQAAAAAAAIBMZAYAAAAAAAAgE5kBAAAAAAAAyERmAAAA\n",
       "AAAAADKRGQAAAAAAAIBMZAYAAAAAAAAgE5kBAAAAAAAAyERmAAAAAAAAADKRGQAAAAAAAIBMZAYA\n",
       "AAAAAAAgE5kBAAAAAAAAyERmAAAAAAAAADKRGQAAAAAAAIBMZAYAAAAAAAAgE5kBAAAAAAAAyERm\n",
       "AAAAAAAAADKRGQAAAAAAAIBMZAYA+GPfjokgBmIgCNYDMILjD+0ImIA/unwcyUE3AmUbTAkAAAAA\n",
       "gExkBgAAAAAAACATmQEAAAAAAADIRGYAAAAAAAAAMpEZAAAAAAAAgExkBgAAAAAAACATmQEAAAAA\n",
       "AADIRGYAAAAAAAAAMpEZAAAAAAAAgExkBgAAAAAAACATmQEAAAAAAADIRGYAAAAAAAAAMpEZAAAA\n",
       "AAAAgExkBgAAAAAAACATmQEAAAAAAADIRGYAAAAAAAAAMpEZAAAAAAAAgExkBgAAAAAAACATmQEA\n",
       "AAAAAADIRGYAAAAAAAAAMpEZAAAAAAAAgExkBgAAAAAAACATmQEAAAAAAADIRGYAAAAAAAAAMpEZ\n",
       "AAAAAAAAgExkBgAAAAAAACATmQEAAAAAAADIRGYAAAAAAAAAMpEZAAAAAAAAgExkBgAAAAAAACAT\n",
       "mQEAAAAAAADIRGYAAAAAAAAAMpEZAAAAAAAAgExkBgAAAAAAACATmQEAAAAAAADIRGYAAAAAAAAA\n",
       "MpEZAAAAAAAAgExkBgAAAAAAACATmQEAAAAAAADIRGYAAAAAAAAAMpEZAAAAAAAAgExkBgAAAAAA\n",
       "ACATmQEAAAAAAADIRGYAAAAAAAAAMpEZAAAAAAAAgExkBgAAAAAAACATmQEAAAAAAADIRGYAAAAA\n",
       "AAAAMpEZAAAAAAAAgExkBgAAAAAAACD7Xdf1TB8BX7D3nj4Bxq21pk+AT7AJYBPgsAlgE+CwCWAT\n",
       "4LAJ4JMZAAAAAAAAgBdEZgAAAAAAAAAykRkAAAAAAACATGQGAAAAAAAAIBOZAQAAAAAAAMhEZgAA\n",
       "AAAAAAAykRkAAAAAAACATGQGAAAAAAAAIBOZAQAAAAAAAMhEZgAAAAAAAAAykRkAAAAAAACATGQG\n",
       "AAAAAAAAIBOZAQAAAAAAAMhEZgAAAAAAAAAykRkAAAAAAACATGQGAAAAAAAAIBOZAQAAAAAAAMhE\n",
       "ZgAAAAAAAAAykRkAAAAAAACATGQGAAAAAAAAIBOZAQAAAAAAAMhEZgAAAAAAAAAykRkAAAAAAACA\n",
       "TGQGAAAAAAAAIBOZAQAAAAAAAMhEZgAAAAAAAAAykRkAAAAAAACATGQGAAAAAAAAIBOZAQAAAAAA\n",
       "AMhEZgAAAAAAAAAykRkAAAAAAACATGQGAAAAAAAAIBOZAQAAAAAAAMhEZgAAAAAAAAAykRkAAAAA\n",
       "AACATGQGAAAAAAAAIBOZAQAAAAAAAMhEZgAAAAAAAAAykRkAAAAAAACATGQGAAAAAAAAIBOZAQAA\n",
       "AAAAAMhEZgAAAAAAAAAykRkAAAAAAACATGQGAAAAAAAAIBOZAQAAAAAAAMhEZgAAAAAAAAAykRkA\n",
       "AAAAAACATGQGAAAAAAAAIBOZAQAAAAAAAMhEZgAAAAAAAAAykRkAAAAAAACATGQGAAAAAAAAIBOZ\n",
       "AQAAAAAAAMhEZgAAAAAAAAAykRkAAAAAAACATGQGAAAAAAAAIBOZAQAAAAAAAMhEZgAAAAAAAAAy\n",
       "kRkAAAAAAACATGQGAAAAAAAAIBOZAQAAAAAAAMhEZgAAAAAAAAAykRkAAAAAAACATGQGAAAAAAAA\n",
       "IBOZAQAAAAAAAMhEZgAAAAAAAAAykRkAAAAAAACATGQGAAAAAAAAIBOZAQAAAAAAAMhEZgAAAAAA\n",
       "AAAykRkAAAAAAACATGQGAAAAAAAAIBOZAQAAAAAAAMhEZgAAAAAAAAAykRkAAAAAAACATGQGAAAA\n",
       "AAAAIBOZAQAAAAAAAMhEZgAAAAAAAAAykRkAAAAAAACATGQGAAAAAAAAIBOZAQAAAAAAAMhEZgAA\n",
       "AAAAAAAykRkAAAAAAACATGQGAAAAAAAAIBOZAQAAAAAAAMhEZgAAAAAAAAAykRkAAAAAAACATGQG\n",
       "AAAAAAAAIBOZAQAAAAAAAMhEZgAAAAAAAAAykRkAAAAAAACATGQGAAAAAAAAIBOZAQAAAAAAAMhE\n",
       "ZgAAAAAAAAAykRkAAAAAAACATGQGAAAAAAAAIBOZAQAAAAAAAMhEZgAAAAAAAAAykRkAAAAAAACA\n",
       "TGQGAAAAAAAAIBOZAQAAAAAAAMhEZgAAAAAAAAAykRkAAAAAAACATGQGAAAAAAAAIBOZAQAAAAAA\n",
       "AMhEZgAAAAAAAAAykRkAAAAAAACATGQGAAAAAAAAIBOZAQAAAAAAAMhEZgAAAAAAAAAykRkAAAAA\n",
       "AACATGQGAAAAAAAAIBOZAQAAAAAAAMhEZgAAAAAAAAAykRkAAAAAAACATGQGAAAAAAAAIBOZAQAA\n",
       "AAAAAMhEZgAAAAAAAAAykRkAAAAAAACATGQGAAAAAAAAIBOZAQAAAAAAAMhEZgAAAAAAAAAykRkA\n",
       "AAAAAACATGQGAAAAAAAAIBOZAQAAAAAAAMhEZgAAAAAAAAAykRkAAAAAAACATGQGAAAAAAAAIBOZ\n",
       "AQAAAAAAAMhEZgAAAAAAAAAykRkAAAAAAACATGQGAAAAAAAAIBOZAQAAAAAAAMhEZgAAAAAAAAAy\n",
       "kRkAAAAAAACATGQGAAAAAAAAIBOZAQAAAAAAAMhEZgAAAAAAAAAykRkAAAAAAACATGQGAAAAAAAA\n",
       "IBOZAQAAAAAAAMhEZgAAAAAAAAAykRkAAAAAAACA7Hff9zN9BHzBWmv6BBi3954+AT7BJoBNgMMm\n",
       "gE2AwyaATYDDJoBPZgAAAAAAAABeEJkBAAAAAAAAyERmAAAAAAAAADKRGQAAAAAAAIBMZAYAAAAA\n",
       "AAAgE5kBAAAAAAAAyERmAAAAAAAAADKRGQAAAAAAAIBMZAYAAAAAAAAgE5kBAAAAAAAAyERmAAAA\n",
       "AAAAADKRGQAAAAAAAIBMZAYAAAAAAAAgE5kBAAAAAAAAyERmAAAAAAAAADKRGQAAAAAAAIBMZAYA\n",
       "AAAAAAAgE5kBAAAAAAAAyERmAAAAAAAAADKRGQAAAAAAAIBMZAYAAAAAAAAgE5kBAAAAAAAAyERm\n",
       "AAAAAAAAADKRGQAAAAAAAIBMZAYAAAAAAAAgE5kBAAAAAAAAyERmAAAAAAAAADKRGQAAAAAAAIBM\n",
       "ZAYAAAAAAAAgE5kBAAAAAAAAyERmAAAAAAAAADKRGQAAAAAAAIBMZAYAAAAAAAAgE5kBAAAAAAAA\n",
       "yERmAAAAAAAAADKRGQAAAAAAAIBMZAYAAAAAAAAgE5kBAAAAAAAAyERmAAAAAAAAADKRGQAAAAAA\n",
       "AIBMZAYAAAAAAAAgE5kBAAAAAAAAyERmAAAAAAAAADKRGQAAAAAAAIBMZAYAAAAAAAAgE5kBAAAA\n",
       "AAAAyERmAAAAAAAAADKRGQAAAAAAAIBMZAYAAAAAAAAgE5kBAAAAAAAAyERmAAAAAAAAADKRGQAA\n",
       "AAAAAIBMZAYAAAAAAAAgE5kBAAAAAAAAyERmAAAAAAAAADKRGQAAAAAAAIBMZAYAAAAAAAAgE5kB\n",
       "AAAAAAAAyERmAAAAAAAAADKRGQAAAAAAAIBMZAYAAAAAAAAgE5kBAAAAAAAAyERmAAAAAAAAADKR\n",
       "GQAAAAAAAIBMZAYAAAAAAAAgE5kBAAAAAAAAyERmAAAAAAAAADKRGQAAAAAAAIBMZAYAAAAAAAAg\n",
       "E5kBAAAAAAAAyERmAAAAAAAAADKRGQAAAAAAAIBMZAYAAAAAAAAgE5kBAAAAAAAAyERmAAAAAAAA\n",
       "ADKRGQAAAAAAAIBMZAYAAAAAAAAgE5kBAAAAAAAAyERmAAAAAAAAADKRGQAAAAAAAIBMZAYAAAAA\n",
       "AAAgE5kBAAAAAAAAyERmAAAAAAAAADKRGQAAAAAAAIBMZAYAAAAAAAAgE5kBAAAAAAAAyERmAAAA\n",
       "AAAAADKRGQAAAAAAAIBMZAYAAAAAAAAgE5kBAAAAAAAAyERmAAAAAAAAADKRGQAAAAAAAIBMZAYA\n",
       "AAAAAAAgE5kBAAAAAAAAyERmAAAAAAAAANQ02f8AABhaSURBVDKRGQAAAAAAAIBMZAYAAAAAAAAg\n",
       "E5kBAAAAAAAAyERmAAAAAAAAADKRGQAAAAAAAIBMZAYAAAAAAAAgE5kBAAAAAAAAyERmAAAAAAAA\n",
       "ADKRGQAAAAAAAIBMZAYAAAAAAAAgE5kBAAAAAAAAyERmAAAAAAAAADKRGQAAAAAAAIBMZAYAAAAA\n",
       "AAAgE5kBAAAAAAAAyERmAAAAAAAAADKRGQAAAAAAAIBMZAYAAAAAAAAgE5kBAAAAAAAAyERmAAAA\n",
       "AAAAADKRGQAAAAAAAIBMZAYAAAAAAAAgE5kBAAAAAAAAyERmAAAAAAAAADKRGQAAAAAAAIBMZAYA\n",
       "AAAAAAAgE5kBAAAAAAAAyERmAAAAAAAAADKRGQAAAAAAAIBMZAYAAAAAAAAgE5kBAAAAAAAAyERm\n",
       "AAAAAAAAADKRGQAAAAAAAIBMZAYAAAAAAAAgE5kBAAAAAAAAyERmAAAAAAAAADKRGQAAAAAAAIBM\n",
       "ZAYAAAAAAAAgE5kBAAAAAAAAyERmAAAAAAAAADKRGQAAAAAAAIBMZAYAAAAAAAAgE5kBAAAAAAAA\n",
       "yERmAAAAAAAAADKRGQAAAAAAAIBMZAYAAAAAAAAgE5kBAAAAAAAAyERmAAAAAAAAALLfdV3P9BHw\n",
       "BXvv6RNg3Fpr+gT4BJsANgEOmwA2AQ6bADYBDpsAPpkBAAAAAAAAeEFkBgAAAAAAACATmQEAAAAA\n",
       "AADIRGYAAAAAAAAAMpEZAAAAAAAAgExkBgAAAAAAACATmQEAAAAAAADIRGYAAAAAAAAAMpEZAAAA\n",
       "AAAAgExkBgAAAAAAACATmQEAAAAAAADIRGYAAAAAAAAAMpEZAAAAAAAAgExkBgAAAAAAACATmQEA\n",
       "AAAAAADIRGYAAAAAAAAAMpEZAAAAAAAAgExkBgAAAAAAACATmQEAAAAAAADIRGYAAAAAAAAAMpEZ\n",
       "AAAAAAAAgExkBgAAAAAAACATmQEAAAAAAADIRGYAAAAAAAAAMpEZAAAAAAAAgExkBgAAAAAAACAT\n",
       "mQEAAAAAAADIRGYAAAAAAAAAMpEZAAAAAAAAgExkBgAAAAAAACATmQEAAAAAAADIRGYAAAAAAAAA\n",
       "MpEZAAAAAAAAgExkBgAAAAAAACATmQEAAAAAAADIRGYAAAAAAAAAMpEZAAAAAAAAgExkBgAAAAAA\n",
       "ACATmQEAAAAAAADIRGYAAAAAAAAAMpEZAAAAAAAAgExkBgAAAAAAACATmQEAAAAAAADIRGYAAAAA\n",
       "AAAAMpEZAAAAAAAAgExkBgAAAAAAACATmQEAAAAAAADIRGYAAAAAAAAAMpEZAAAAAAAAgExkBgAA\n",
       "AAAAACATmQEAAAAAAADIRGYAAAAAAAAAMpEZAAAAAAAAgExkBgAAAAAAACATmQEAAAAAAADIRGYA\n",
       "AAAAAAAAMpEZAAAAAAAAgExkBgAAAAAAACATmQEAAAAAAADIRGYAAAAAAAAAMpEZAAAAAAAAgExk\n",
       "BgAAAAAAACATmQEAAAAAAADIRGYAAAAAAAAAMpEZAAAAAAAAgExkBgAAAAAAACATmQEAAAAAAADI\n",
       "RGYAAAAAAAAAMpEZAAAAAAAAgExkBgAAAAAAACATmQEAAAAAAADIRGYAAAAAAAAAMpEZAAAAAAAA\n",
       "gExkBgAAAAAAACATmQEAAAAAAADIRGYAAAAAAAAAMpEZAAAAAAAAgExkBgAAAAAAACATmQEAAAAA\n",
       "AADIRGYAAAAAAAAAMpEZAAAAAAAAgExkBgAAAAAAACATmQEAAAAAAADIRGYAAAAAAAAAMpEZAAAA\n",
       "AAAAgExkBgAAAAAAACATmQEAAAAAAADIRGYAAAAAAAAAMpEZAAAAAAAAgExkBgAAAAAAACATmQEA\n",
       "AAAAAADIRGYAAAAAAAAAMpEZAAAAAAAAgExkBgAAAAAAACATmQEAAAAAAADIRGYAAAAAAAAAMpEZ\n",
       "AAAAAAAAgExkBgAAAAAAACATmQEAAAAAAADIRGYAAAAAAAAAMpEZAAAAAAAAgExkBgAAAAAAACAT\n",
       "mQEAAAAAAADIRGYAAAAAAAAAMpEZAAAAAAAAgExkBgAAAAAAACATmQEAAAAAAADIRGYAAAAAAAAA\n",
       "MpEZAAAAAAAAgExkBgAAAAAAACATmQEAAAAAAADIRGYAAAAAAAAAMpEZAAAAAAAAgExkBgAAAAAA\n",
       "ACATmQEAAAAAAADIRGYAAAAAAAAAMpEZAAAAAAAAgExkBgAAAAAAACATmQEAAAAAAADIRGYAAAAA\n",
       "AAAAMpEZAAAAAAAAgExkBgAAAAAAACATmQEAAAAAAADIRGYAAAAAAAAAMpEZAAAAAAAAgExkBgAA\n",
       "AAAAACATmQEAAAAAAADIRGYAAAAAAAAAMpEZAAAAAAAAgExkBgAAAAAAACATmQEAAAAAAADIRGYA\n",
       "AAAAAAAAMpEZAAAAAAAAgExkBgAAAAAAACATmQEAAAAAAADIRGYAAAAAAAAAMpEZAAAAAAAAgExk\n",
       "BgAAAAAAACATmQEAAAAAAADIRGYAAAAAAAAAMpEZAAAAAAAAgExkBgAAAAAAACATmQEAAAAAAADI\n",
       "fvd9P9NHwBestaZPgHF77+kT4BNsAtgEOGwC2AQ4bALYBDhsAvhkBgAAAAAAAOAFkRkAAAAAAACA\n",
       "TGQGAAAAAAAAIBOZAQAAAAAAAMhEZgAAAAAAAAAykRkAAAAAAACATGQGAAAAAAAAIBOZAQAAAAAA\n",
       "AMhEZgAAAAAAAAAykRkAAAAAAACATGQGAAAAAAAAIBOZAQAAAAAAAMhEZgAAAAAAAAAykRkAAAAA\n",
       "AACATGQGAAAAAAAAIBOZAQAAAAAAAMhEZgAAAAAAAAAykRkAAAAAAACATGQGAAAAAAAAIBOZAQAA\n",
       "AAAAAMhEZgAAAAAAAAAykRkAAAAAAACATGQGAAAAAAAAIBOZAQAAAAAAAMhEZgAAAAAAAAAykRkA\n",
       "AAAAAACATGQGAAAAAAAAIBOZAQAAAAAAAMhEZgAAAAAAAAAykRkAAAAAAACATGQGAAAAAAAAIBOZ\n",
       "AQAAAAAAAMhEZgAAAAAAAAAykRkAAAAAAACATGQGAAAAAAAAIBOZAQAAAAAAAMhEZgAAAAAAAAAy\n",
       "kRkAAAAAAACATGQGAAAAAAAAIBOZAQAAAAAAAMhEZgAAAAAAAAAykRkAAAAAAACATGQGAAAAAAAA\n",
       "IBOZAQAAAAD4t2/HRBADMRAE6wEYwfGHdgRMwB9dPo7koBuBsg2mBACQicwAAAAAAAAAZCIzAAAA\n",
       "AAAAAJnIDAAAAAAAAEAmMgMAAAAAAACQicwAAAAAAAAAZCIzAAAAAAAAAJnIDAAAAAAAAEAmMgMA\n",
       "AAAAAACQicwAAAAAAAAAZCIzAAAAAAAAAJnIDAAAAAAAAEAmMgMAAAAAAACQicwAAAAAAAAAZCIz\n",
       "AAAAAAAAAJnIDAAAAAAAAEAmMgMAAAAAAACQicwAAAAAAAAAZCIzAAAAAAAAAJnIDAAAAAAAAEAm\n",
       "MgMAAAAAAACQicwAAAAAAAAAZCIzAAAAAAAAAJnIDAAAAAAAAEAmMgMAAAAAAACQicwAAAAAAAAA\n",
       "ZCIzAAAAAAAAAJnIDAAAAAAAAEAmMgMAAAAAAACQicwAAAAAAAAAZCIzAAAAAAAAAJnIDAAAAAAA\n",
       "AEAmMgMAAAAAAACQicwAAAAAAAAAZCIzAAAAAAAAAJnIDAAAAAAAAEAmMgMAAAAAAACQicwAAAAA\n",
       "AAAAZCIzAAAAAAAAAJnIDAAAAAAAAEAmMgMAAAAAAACQicwAAAAAAAAAZCIzAAAAAAAAAJnIDAAA\n",
       "AAAAAEAmMgMAAAAAAACQicwAAAAAAAAAZCIzAAAAAAAAAJnIDAAAAAAAAEAmMgMAAAAAAACQicwA\n",
       "AAAAAAAAZCIzAAAAAAAAAJnIDAAAAAAAAEAmMgMAAAAAAACQicwAAAAAAAAAZCIzAAAAAAAAAJnI\n",
       "DAAAAAAAAEAmMgMAAAAAAACQicwAAAAAAAAAZCIzAAAAAAAAAJnIDAAAAAAAAEAmMgMAAAAAAACQ\n",
       "icwAAAAAAAAAZCIzAAAAAAAAAJnIDAAAAAAAAEAmMgMAAAAAAACQicwAAAAAAAAAZCIzAAAAAAAA\n",
       "AJnIDAAAAAAAAEAmMgMAAAAAAACQicwAAAAAAAAAZCIzAAAAAAAAAJnIDAAAAAAAAEAmMgMAAAAA\n",
       "AACQicwAAAAAAAAAZCIzAAAAAAAAAJnIDAAAAAAAAEAmMgMAAAAAAACQicwAAAAAAAAAZCIzAAAA\n",
       "AAAAAJnIDAAAAAAAAEAmMgMAAAAAAACQicwAAAAAAAAAZCIzAAAAAAAAAJnIDAAAAAAAAEAmMgMA\n",
       "AAAAAACQicwAAAAAAAAAZCIzAAAAAAAAAJnIDAAAAAAAAEAmMgMAAAAAAACQicwAAAAAAAAAZCIz\n",
       "AAAAAAAAAJnIDAAAAAAAAEAmMgMAAAAAAACQicwAAAAAAAAAZCIzAAAAAAAAAJnIDAAAAAAAAEAm\n",
       "MgMAAAAAAACQicwAAAAAAAAAZCIzAAAAAAAAAJnIDAAAAAAAAED2u67rmT4CvmDvPX0CjFtrTZ8A\n",
       "n2ATwCbAYRPAJsBhE8AmwGETwCczAAAAAAAAAC+IzAAAAAAAAABkIjMAAAAAAAAAmcgMAAAAAAAA\n",
       "QCYyAwAAAAAAAJCJzAAAAAAAAABkIjMAAAAAAAAAmcgMAAAAAAAAQCYyAwAAAAAAAJCJzAAAAAAA\n",
       "AABkIjMAAAAAAAAAmcgMAAAAAAAAQCYyAwAAAAAAAJCJzAAAAAAAAABkIjMAAAAAAAAAmcgMAAAA\n",
       "AAAAQCYyAwAAAAAAAJCJzAAAAAAAAABkIjMAAAAAAAAAmcgMAAAAAAAAQCYyAwAAAAAAAJCJzAAA\n",
       "AAAAAABkIjMAAAAAAAAAmcgMAAAAAAAAQCYyAwAAAAAAAJCJzAAAAAAAAABkIjMAAAAAAAAAmcgM\n",
       "AAAAAAAAQCYyAwAAAAAAAJCJzAAAAAAAAABkIjMAAAAAAAAAmcgMAAAAAAAAQCYyAwAAAAAAAJCJ\n",
       "zAAAAAAAAABkIjMAAAAAAAAAmcgMAAAAAAAAQCYyAwAAAAAAAJCJzAAAAAAAAABkIjMAAAAAAAAA\n",
       "mcgMAAAAAAAAQCYyAwAAAAAAAJCJzAAAAAAAAABkIjMAAAAAAAAAmcgMAAAAAAAAQCYyAwAAAAAA\n",
       "AJCJzAAAAAAAAABkIjMAAAAAAAAAmcgMAAAAAAAAQCYyAwAAAAAAAJCJzAAAAAAAAABkIjMAAAAA\n",
       "AAAAmcgMAAAAAAAAQCYyAwAAAAAAAJCJzAAAAAAAAABkIjMAAAAAAAAAmcgMAAAAAAAAQCYyAwAA\n",
       "AAAAAJCJzAAAAAAAAABkIjMAAAAAAAAAmcgMAAAAAAAAQCYyAwAAAAAAAJCJzAAAAAAAAABkIjMA\n",
       "AAAAAAAAmcgMAAAAAAAAQCYyAwAAAAAAAJCJzAAAAAAAAABkIjMAAAAAAAAAmcgMAAAAAAAAQCYy\n",
       "AwAAAAAAAJCJzAAAAAAAAABkIjMAAAAAAAAAmcgMAAAAAAAAQCYyAwAAAAAAAJCJzAAAAAAAAABk\n",
       "IjMAAAAAAAAAmcgMAAAAAAAAQCYyAwAAAAAAAJCJzAAAAAAAAABkIjMAAAAAAAAAmcgMAAAAAAAA\n",
       "QCYyAwAAAAAAAJCJzAAAAAAAAABkIjMAAAAAAAAAmcgMAAAAAAAAQCYyAwAAAAAAAJCJzAAAAAAA\n",
       "AABkIjMAAAAAAAAAmcgMAAAAAAAAQCYyAwAAAAAAAJCJzAAAAAAAAABkIjMAAAAAAAAAmcgMAAAA\n",
       "AAAAQCYyAwAAAAAAAJCJzAAAAAAAAABkIjMAAAAAAAAAmcgMAAAAAAAAQCYyAwAAAAAAAJCJzAAA\n",
       "AAAAAABkIjMAAAAAAAAAmcgMAAAAAAAAQCYyAwAAAAAAAJCJzAAAAAAAAABkIjMAAAAAAAAAmcgM\n",
       "AAAAAAAAQCYyAwAAAAAAAJCJzAAAAAAAAABkIjMAAAAAAAAAmcgMAAAAAAAAQCYyAwAAAAAAAJCJ\n",
       "zAAAAAAAAABkIjMAAAAAAAAAmcgMAAAAAAAAQCYyAwAAAAAAAJCJzAAAAAAAAABkIjMAAAAAAAAA\n",
       "mcgMAAAAAAAAQCYyAwAAAAAAAJCJzAAAAAAAAABkIjMAAAAAAAAAmcgMAAAAAAAAQCYyAwAAAAAA\n",
       "AJCJzAAAAAAAAABkIjMAAAAAAAAAmcgMAAAAAAAAQCYyAwAAAAAAAJCJzAAAAAAAAABkIjMAAAAA\n",
       "AAAAmcgMAAAAAAAAQCYyAwAAAAAAAJCJzAAAAAAAAABkIjMAAAAAAAAAmcgMAAAAAAAAQCYyAwAA\n",
       "AAAAAJCJzAAAAAAAAABkIjMAAAAAAAAAmcgMAAAAAAAAQCYyAwAAAAAAAJCJzAAAAAAAAABkIjMA\n",
       "AAAAAAAAmcgMAAAAAAAAQCYyAwAAAAAAAJCJzAAAAAAAAABkIjMAAAAAAAAA2e++72f6CPiCtdb0\n",
       "CTBu7z19AnyCTQCbAIdNAJsAh00AmwCHTQCfzAAAAAAAAAC8IDIDAAAAAAAAkInMAAAAAAAAAGQi\n",
       "MwAAAAAAAACZyAwAAAAAAABAJjIDAAAAAAAAkInMAAAAAAAAAGQiMwAAAAAAAACZyAwAAAAAAABA\n",
       "JjIDAAAAAAAAkInMAAAAAAAAAGQiMwAAAAAAAACZyAwAAAAAAABAJjIDAAAAAAAAkInMAAAAAAAA\n",
       "AGQiMwAAAAAAAACZyAwAAAAAAABAJjIDAAAAAAAAkInMAAAAAAAAAGQiMwAAAAAAAACZyAwAAAAA\n",
       "AABAJjIDAAAAAAAAkInMAAAAAAAAAGQiMwAAAAAAAACZyAwAAAAAAABAJjIDAAAAAAAAkInMAAAA\n",
       "AAAAAGQiMwAAAAAAAACZyAwAAAAAAABAJjIDAAAAAAAAkInMAAAAAAAAAGQiMwAAAAAAAACZyAwA\n",
       "AAAAAABAJjIDAAAAAAAAkInMAAAAAAAAAGQiMwAAAAAAAACZyAwAAAAAAABAJjIDAAAAAAAAkInM\n",
       "AAAAAAAAAGQiMwAAAAAAAACZyAwAAAAAAABAJjIDAAAAAAAAkInMAAAAAAAAAGQiMwAAAAAAAACZ\n",
       "yAwAAAAAAABAJjIDAAAAAAAAkInMAAAAAAAAAGQiMwAAAAAAAACZyAwAAAAAAABAJjIDAAAAAAAA\n",
       "kInMAAAAAAAAAGQiMwAAAAAAAACZyAwAAAAAAABAJjIDAAAAAAAAkInMAAAAAAAAAGQiMwAAAAAA\n",
       "AACZyAwAAAAAAABAJjIDAAAAAAAAkInMAAAAAAAAAGQiMwAAAAAAAACZyAwAAAAAAABAJjIDAAAA\n",
       "AAAAkInMAAAAAAAAAGQiMwAAAAAAAACZyAwAAAAAAABAJjIDAAAAAAAAkInMAAAAAAAAAGQiMwAA\n",
       "AAAAAACZyAwAAAAAAABAJjIDAAAAAAAAkInMAAAAAAAAAGQiMwAAAAAAAACZyAwAAAAAAABAJjID\n",
       "AAAAAAAAkInMAAAAAAAAAGQiMwAAAAAAAACZyAwAAAAAAABAJjIDAAAAAAAAkInMAAAAAAAAAGQi\n",
       "MwAAAAAAAACZyAwAAAAAAABAJjIDAAAAAAAAkInMAAAAAAAAAGQiMwAAAAAAAACZyAwAAAAAAABA\n",
       "JjIDAAAAAAAAkInMAAAAAAAAAGQiMwAAAAAAAACZyAwAAAAAAABAJjIDAAAAAAAAkInMAAAAAAAA\n",
       "AGQiMwAAAAAAAACZyAwAAAAAAABAJjIDAAAAAAAAkInMAAAAAAAAAGQiMwAAAAAAAACZyAwAAAAA\n",
       "AABAJjIDAAAAAAAAkInMAAAAAAAAAGQiMwAAAAAAAACZyAwAAAAAAABAJjIDAAAAAAAAkInMAAAA\n",
       "AAAAAGQiMwAAAAAAAACZyAwAAAAAAABAJjIDAAAAAAAAkInMAAAAAAAAAGQiMwAAAAAAAACZyAwA\n",
       "AAAAAABAJjIDAAAAAAAAkInMAAAAAAAAAGQiMwAAAAAAAACZyAwAAAAAAABAJjIDAAAAAAAAkInM\n",
       "AAAAAAAAAGQiMwAAAAAAAACZyAwAAAAAAABAJjIDAAAAAAAAkInMAAAAAAAAAGQiMwAAAAAAAACZ\n",
       "yAwAAAAAAABAJjIDAAAAAAAAkInMAAAAAAAAAGQiMwAAAAAAAACZyAwAAAAAAABAJjIDAAAAAAAA\n",
       "kInMAAAAAAAAAGQiMwAAAAAAAACZyAwAAAAAAABAJjIDAAAAAAAAkInMAAAAAAAAAGQiMwAAAAAA\n",
       "AACZyAwAAAAAAABAJjIDAAAAAAAAkInMAAAAAAAAAGQiMwAAAAAAAACZyAwAAAAAAABAJjIDAAAA\n",
       "AAAAkInMAAAAAAAAAGQiMwAAAAAAAACZyAwAAAAAAABAJjIDAAAAAAAAkInMAAAAAAAAAGR/Q2Cr\n",
       "Hv23d5AAAAAASUVORK5CYII=\n",
       "\" transform=\"translate(167, 47)\"/>\n",
       "</g>\n",
       "<defs>\n",
       "  <clipPath id=\"clip1503\">\n",
       "    <rect x=\"2160\" y=\"47\" width=\"73\" height=\"1441\"/>\n",
       "  </clipPath>\n",
       "</defs>\n",
       "<g clip-path=\"url(#clip1503)\">\n",
       "<image width=\"72\" height=\"1440\" xlink:href=\"data:image/png;base64,\n",
       "iVBORw0KGgoAAAANSUhEUgAAAEgAAAWgCAYAAAD9wgUPAAALdUlEQVR4nO3XsQ2AMBAEQUD0X6wb\n",
       "eCowG0IwUwFanfziXGvNwdb19Qf8nUBBoCBQECjcM47YGwsKAgWBgkBBoOCKBQsKAgWBgkDBIx0s\n",
       "KAgUBAoCBYGCKxYsKAgUBAoCBYGCKxYsKAgUBAoCBY90sKAgUBAoCBQECq5YsKAgUBAoCBQECgIF\n",
       "gYJAQaAgUPCrESwoCBQECgIFgYIrFiwoCBQECgIFj3SwoCBQECgIFAQKrliwoCBQECgIFAQKrliw\n",
       "oCBQECgIFDzSwYKCQEGgIFAQKLhiwYKCQEGgIFDwSAcLCgIFgYJAQaDgigULCgIFgYJAQaAgUBAo\n",
       "CBQECgIFvxrBgoJAQaAgUBAouGLBgoJAQaAgUBAouGLBgoJAQaAgUPBIBwsKAgWBgkBBoOCKBQsK\n",
       "AgWBgkDBIx0sKAgUBAoCBYGCKxYsKAgUBAoCBYGCKxYsKAgUBAoCBY90sKAgUBAoCBQECgIFgYJA\n",
       "QaAgUBAo+BcLFhQECgIFgYJHOlhQECgIFAQKAgVXLFhQECgIFAQKHulgQUGgIFAQKAgUXLFgQUGg\n",
       "IFAQKAgUXLFgQUGgIFAQKHikgwUFgYJAQaAgUHDFggUFgYJAQaAgUHDFggUFgYJAQaAgUBAoCBQE\n",
       "CgIFgYJfjWBBQaAgUBAoeKSDBQWBgkBBoCBQcMWCBQWBgkBBoCBQcMWCBQWBgkBBoOCRDhYUBAoC\n",
       "BYGCQMEVCxYUBAoCBYGCQMEVCxYUBAoCBYGCRzpYUBAoCBQECgIFVyxYUBAoCBQECgIFgYJAQaAg\n",
       "UBAo+NUIFhQECgIFgYJAwRULFhQECgIFgYJHOlhQECgIFAQKAgVXLFhQECgIFAQKAgVXLFhQECgI\n",
       "FAQKHulgQUGgIFAQKAgUXLFgQUGgIFAQKHikgwUFgYJAQaAgUHDFggUFgYJAQaAgUBAoCBQECgIF\n",
       "gYJfjWBBQaAgUBAoCBRcsWBBQaAgUBAoCBRcsWBBQaAgUBAoeKSDBQWBgkBBoCBQcMWCBQWBgkBB\n",
       "oOCRDhYUBAoCBYGCQMEVCxYUBAoCBYGCQMEVCxYUBAoCBYGCRzpYUBAoCBQECgIFgYJAQaAgUBAo\n",
       "CBT8iwULCgIFgYJAwSMdLCgIFAQKAgWBgisWLCgIFAQKAgWPdLCgIFAQKAgUBAquWLCgIFAQKAgU\n",
       "BAquWLCgIFAQKAgUPNLBgoJAQaAgUBAouGLBgoJAQaAgUBAouGLBgoJAQaAgUBAoCBQECgIFgYJA\n",
       "wa9GsKAgUBAoCBQ80sGCgkBBoCBQECi4YsGCgkBBoCBQECi4YsGCgkBBoCBQ8EgHCwoCBYGCQEGg\n",
       "4IoFCwoCBYGCQEGg4IoFCwoCBYGCQMEjHSwoCBQECgIFgYIrFiwoCBQECgIFgYJAQaAgUBAoCBT8\n",
       "agQLCgIFgYJAQaDgigULCgIFgYJAwSMdLCgIFAQKAgWBgisWLCgIFAQKAgWBgisWLCgIFAQKAgWP\n",
       "dLCgIFAQKAgUBAquWLCgIFAQKAgUPNLBgoJAQaAgUBAouGLBgoJAQaAgUBAoCBQECgIFgYJAwa9G\n",
       "sKAgUBAoCBQECq5YsKAgUBAoCBQECq5YsKAgUBAoCBQ80sGCgkBBoCBQECi4YsGCgkBBoCBQ8EgH\n",
       "CwoCBYGCQEGg4IoFCwoCBYGCQEGg4IoFCwoCBYGCQMEjHSwoCBQECgIFgYJAQaAgUBAoCBQECv7F\n",
       "ggUFgYJAQaDgkQ4WFAQKAgWBgkDBFQsWFAQKAgWBgkc6WFAQKAgUBAoCBVcsWFAQKAgUBAoCBVcs\n",
       "WFAQKAgUBAoe6WBBQaAgUBAoCBRcsWBBQaAgUBAoCBRcsWBBQaAgUBAoCBQECgIFgYJAQaDgVyNY\n",
       "UBAoCBQECh7pYEFBoCBQECgIFFyxYEFBoCBQECgIFFyxYEFBoCBQECh4pIMFBYGCQEGgIFBwxYIF\n",
       "BYGCQEGgIFBwxYIFBYGCQEGg4JEOFhQECgIFgYJAwRULFhQECgIFgYJAQaAgUBAoCBQECn41ggUF\n",
       "gYJAQaAgUHDFggUFgYJAQaDgkQ4WFAQKAgWBgkDBFQsWFAQKAgWBgkDBFQsWFAQKAgWBgkc6WFAQ\n",
       "KAgUBAoCBVcsWFAQKAgUBAoe6WBBQaAgUBAoCBRcsWBBQaAgUBAoCBQECgIFgYJAQaDgVyNYUBAo\n",
       "CBQECgIFVyxYUBAoCBQECgIFVyxYUBAoCBQECh7pYEFBoCBQECgIFFyxYEFBoCBQECh4pIMFBYGC\n",
       "QEGgIFBwxYIFBYGCQEGgIFBwxYIFBYGCQEGg4JEOFhQECgIFgYJAQaAgUBAoCBQECgIF/2LBgoJA\n",
       "QaAgUPBIBwsKAgWBgkBBoOCKBQsKAgWBgkDBIx0sKAgUBAoCBYGCKxYsKAgUBAoCBYGCKxYsKAgU\n",
       "BAoCBY90sKAgUBAoCBQECq5YsKAgUBAoCBQECq5YsKAgUBAoCBQECgIFgYJAQaAgUPCrESwoCBQE\n",
       "CgIFj3SwoCBQECgIFAQKrliwoCBQECgIFAQKrliwoCBQECgIFDzSwYKCQEGgIFAQKLhiwYKCQEGg\n",
       "IFAQKLhiwYKCQEGgIFDwSAcLCgIFgYJAQaDgigULCgIFgYJAQaAgUBAoCBQECgIFvxrBgoJAQaAg\n",
       "UBAouGLBgoJAQaAgUPBIBwsKAgWBgkBBoOCKBQsKAgWBgkBBoOCKBQsKAgWBgkDBIx0sKAgUBAoC\n",
       "BYGCKxYsKAgUBAoCBY90sKAgUBAoCBQECq5YsKAgUBAoCBQECgIFgYJAQaAgUPCrESwoCBQECgIF\n",
       "gYIrFiwoCBQECgIFgYIrFiwoCBQECgIFj3SwoCBQECgIFAQKrliwoCBQECgIFDzSwYKCQEGgIFAQ\n",
       "KLhiwYKCQEGgIFAQKLhiwYKCQEGgIFDwSAcLCgIFgYJAQaAgUBAoCBQECgIFgYJ/sWBBQaAgUBAo\n",
       "eKSDBQWBgkBBoCBQcMWCBQWBgkBBoOCRDhYUBAoCBYGCQMEVCxYUBAoCBYGCQMEVCxYUBAoCBYGC\n",
       "RzpYUBAoCBQECgIFVyxYUBAoCBQECgIFVyxYUBAoCBQECgIFgYJAQaAgUBAo+NUIFhQECgIFgYJH\n",
       "OlhQECgIFAQKAgVXLFhQECgIFAQKAgVXLFhQECgIFAQKHulgQUGgIFAQKAgUXLFgQUGgIFAQKAgU\n",
       "XLFgQUGgIFAQKHikgwUFgYJAQaAgUHDFggUFgYJAQaAgUBAoCBQECgIFgYJfjWBBQaAgUBAoCBRc\n",
       "sWBBQaAgUBAoeKSDBQWBgkBBoCBQcMWCBQWBgkBBoCBQcMWCBQWBgkBBoOCRDhYUBAoCBYGCQMEV\n",
       "CxYUBAoCBYGCRzpYUBAoCBQECgIFVyxYUBAoCBQECgIFgYJAQaAgUBAo+NUIFhQECgIFgYJAwRUL\n",
       "FhQECgIFgYJAwRULFhQECgIFgYJHOlhQECgIFAQKAgVXLFhQECgIFAQKHulgQUGgIFAQKAgUXLFg\n",
       "QUGgIFAQKAgUXLFgQUGgIFAQKHikgwUFgYJAQaAgUBAoCBQECgIFgYJAwb9YsKAgUBAoCBQ80sGC\n",
       "gkBBoCBQECi4YsGCgkBBoCBQ8EgHCwoCBYGCQEGg4IoFCwoCBYGCQEGg4IoFCwoCBYGCQMEjHSwo\n",
       "CBQECgIFgYIrFiwoCBQECgIFgYIrFiwoCBQECgIFgYJAQaAgUBAoCBT8agQLCgIFgYJAwSMdLCgI\n",
       "FAQKAgWBgisWLCgIFAQKAgWBgisWLCgIFAQKAgWPdLCgIFAQKAgUBAquWLCgIFAQKAgUBAquWLCg\n",
       "IFAQKAgUPNLBgoJAQaAgUBAouGLBgoJAQaAgUBAoCBQECgIFgYJAwa9GsKAgUBAoCBQECq5YsKAg\n",
       "UBAoCBQ80sGCgkBBoCBQECi4YsGCgkBBoCBQECi4YsGCgkBBoCBQ8EgHCwoCBYGCQEGg4IoFCwoC\n",
       "BYGCQOEBLv/ATfMdQyIAAAAASUVORK5CYII=\n",
       "\" transform=\"translate(2161, 47)\"/>\n",
       "</g>\n",
       "<g clip-path=\"url(#clip1500)\">\n",
       "<text style=\"fill:#000000; fill-opacity:1; font-family:Arial,Helvetica Neue,Helvetica,sans-serif; font-size:48px; text-anchor:start;\" transform=\"rotate(0, 2268.76, 1501.13)\" x=\"2268.76\" y=\"1501.13\">0</text>\n",
       "</g>\n",
       "<g clip-path=\"url(#clip1500)\">\n",
       "<text style=\"fill:#000000; fill-opacity:1; font-family:Arial,Helvetica Neue,Helvetica,sans-serif; font-size:48px; text-anchor:start;\" transform=\"rotate(0, 2268.76, 1357.1)\" x=\"2268.76\" y=\"1357.1\">0.1</text>\n",
       "</g>\n",
       "<g clip-path=\"url(#clip1500)\">\n",
       "<text style=\"fill:#000000; fill-opacity:1; font-family:Arial,Helvetica Neue,Helvetica,sans-serif; font-size:48px; text-anchor:start;\" transform=\"rotate(0, 2268.76, 1213.08)\" x=\"2268.76\" y=\"1213.08\">0.2</text>\n",
       "</g>\n",
       "<g clip-path=\"url(#clip1500)\">\n",
       "<text style=\"fill:#000000; fill-opacity:1; font-family:Arial,Helvetica Neue,Helvetica,sans-serif; font-size:48px; text-anchor:start;\" transform=\"rotate(0, 2268.76, 1069.06)\" x=\"2268.76\" y=\"1069.06\">0.3</text>\n",
       "</g>\n",
       "<g clip-path=\"url(#clip1500)\">\n",
       "<text style=\"fill:#000000; fill-opacity:1; font-family:Arial,Helvetica Neue,Helvetica,sans-serif; font-size:48px; text-anchor:start;\" transform=\"rotate(0, 2268.76, 925.034)\" x=\"2268.76\" y=\"925.034\">0.4</text>\n",
       "</g>\n",
       "<g clip-path=\"url(#clip1500)\">\n",
       "<text style=\"fill:#000000; fill-opacity:1; font-family:Arial,Helvetica Neue,Helvetica,sans-serif; font-size:48px; text-anchor:start;\" transform=\"rotate(0, 2268.76, 781.011)\" x=\"2268.76\" y=\"781.011\">0.5</text>\n",
       "</g>\n",
       "<g clip-path=\"url(#clip1500)\">\n",
       "<text style=\"fill:#000000; fill-opacity:1; font-family:Arial,Helvetica Neue,Helvetica,sans-serif; font-size:48px; text-anchor:start;\" transform=\"rotate(0, 2268.76, 636.988)\" x=\"2268.76\" y=\"636.988\">0.6</text>\n",
       "</g>\n",
       "<g clip-path=\"url(#clip1500)\">\n",
       "<text style=\"fill:#000000; fill-opacity:1; font-family:Arial,Helvetica Neue,Helvetica,sans-serif; font-size:48px; text-anchor:start;\" transform=\"rotate(0, 2268.76, 492.964)\" x=\"2268.76\" y=\"492.964\">0.7</text>\n",
       "</g>\n",
       "<g clip-path=\"url(#clip1500)\">\n",
       "<text style=\"fill:#000000; fill-opacity:1; font-family:Arial,Helvetica Neue,Helvetica,sans-serif; font-size:48px; text-anchor:start;\" transform=\"rotate(0, 2268.76, 348.941)\" x=\"2268.76\" y=\"348.941\">0.8</text>\n",
       "</g>\n",
       "<g clip-path=\"url(#clip1500)\">\n",
       "<text style=\"fill:#000000; fill-opacity:1; font-family:Arial,Helvetica Neue,Helvetica,sans-serif; font-size:48px; text-anchor:start;\" transform=\"rotate(0, 2268.76, 204.918)\" x=\"2268.76\" y=\"204.918\">0.9</text>\n",
       "</g>\n",
       "<g clip-path=\"url(#clip1500)\">\n",
       "<text style=\"fill:#000000; fill-opacity:1; font-family:Arial,Helvetica Neue,Helvetica,sans-serif; font-size:48px; text-anchor:start;\" transform=\"rotate(0, 2268.76, 60.8953)\" x=\"2268.76\" y=\"60.8953\">1.0</text>\n",
       "</g>\n",
       "<polyline clip-path=\"url(#clip1500)\" style=\"stroke:#000000; stroke-width:4; stroke-opacity:1; fill:none\" points=\"\n",
       "  2232.76,1487.47 2232.76,1487.47 2256.76,1487.47 2232.76,1487.47 2232.76,1343.45 2256.76,1343.45 2232.76,1343.45 2232.76,1199.43 2256.76,1199.43 2232.76,1199.43 \n",
       "  2232.76,1055.41 2256.76,1055.41 2232.76,1055.41 2232.76,911.382 2256.76,911.382 2232.76,911.382 2232.76,767.359 2256.76,767.359 2232.76,767.359 2232.76,623.336 \n",
       "  2256.76,623.336 2232.76,623.336 2232.76,479.313 2256.76,479.313 2232.76,479.313 2232.76,335.29 2256.76,335.29 2232.76,335.29 2232.76,191.267 2256.76,191.267 \n",
       "  2232.76,191.267 2232.76,47.2441 2256.76,47.2441 2232.76,47.2441 \n",
       "  \"/>\n",
       "</svg>\n"
      ]
     },
     "execution_count": 108,
     "metadata": {},
     "output_type": "execute_result"
    }
   ],
   "source": [
    "plot(ground, st = :heatmap, color = :grays)"
   ]
  },
  {
   "cell_type": "code",
   "execution_count": 89,
   "metadata": {
    "hidden": true
   },
   "outputs": [
    {
     "data": {
      "text/plain": [
       "(400, 400)"
      ]
     },
     "execution_count": 89,
     "metadata": {},
     "output_type": "execute_result"
    }
   ],
   "source": [
    "size(population)"
   ]
  },
  {
   "cell_type": "code",
   "execution_count": 135,
   "metadata": {
    "hidden": true
   },
   "outputs": [
    {
     "data": {
      "text/plain": [
       "2-element Array{Int64,1}:\n",
       " 0\n",
       " 0"
      ]
     },
     "execution_count": 135,
     "metadata": {},
     "output_type": "execute_result"
    }
   ],
   "source": [
    "rand([0,-1,1], 2)"
   ]
  },
  {
   "cell_type": "code",
   "execution_count": null,
   "metadata": {
    "hidden": true
   },
   "outputs": [],
   "source": []
  },
  {
   "cell_type": "code",
   "execution_count": null,
   "metadata": {
    "hidden": true
   },
   "outputs": [],
   "source": []
  }
 ],
 "metadata": {
  "@webio": {
   "lastCommId": "7ff758736cde48e1821f75cdb6889b59",
   "lastKernelId": "ad95b797-a240-423a-8b9a-fafa6c3267c5"
  },
  "kernelspec": {
   "display_name": "Julia 1.2.0",
   "language": "julia",
   "name": "julia-1.2"
  },
  "language_info": {
   "file_extension": ".jl",
   "mimetype": "application/julia",
   "name": "julia",
   "version": "1.2.0"
  },
  "notify_time": "5",
  "toc": {
   "base_numbering": 1,
   "nav_menu": {},
   "number_sections": true,
   "sideBar": true,
   "skip_h1_title": false,
   "title_cell": "Table of Contents",
   "title_sidebar": "Contents",
   "toc_cell": false,
   "toc_position": {
    "height": "323.323px",
    "left": "103px",
    "top": "88px",
    "width": "165px"
   },
   "toc_section_display": true,
   "toc_window_display": false
  },
  "varInspector": {
   "cols": {
    "lenName": 16,
    "lenType": 16,
    "lenVar": 40
   },
   "kernels_config": {
    "python": {
     "delete_cmd_postfix": "",
     "delete_cmd_prefix": "del ",
     "library": "var_list.py",
     "varRefreshCmd": "print(var_dic_list())"
    },
    "r": {
     "delete_cmd_postfix": ") ",
     "delete_cmd_prefix": "rm(",
     "library": "var_list.r",
     "varRefreshCmd": "cat(var_dic_list()) "
    }
   },
   "types_to_exclude": [
    "module",
    "function",
    "builtin_function_or_method",
    "instance",
    "_Feature"
   ],
   "window_display": false
  }
 },
 "nbformat": 4,
 "nbformat_minor": 2
}
